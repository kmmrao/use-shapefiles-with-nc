{
 "cells": [
  {
   "cell_type": "code",
   "execution_count": 20,
   "id": "73ba1810",
   "metadata": {},
   "outputs": [
    {
     "data": {
      "text/plain": [
       "'F:\\\\Osmanabad\\\\Osmanabad Shapefile\\\\tutorial'"
      ]
     },
     "execution_count": 20,
     "metadata": {},
     "output_type": "execute_result"
    }
   ],
   "source": [
    "pwd"
   ]
  },
  {
   "cell_type": "code",
   "execution_count": 39,
   "id": "6c763b14",
   "metadata": {},
   "outputs": [],
   "source": [
    "import netCDF4\n",
    "import numpy as np\n",
    "from osgeo import gdal,osr,ogr\n",
    "import matplotlib.pyplot as plt"
   ]
  },
  {
   "cell_type": "code",
   "execution_count": 42,
   "id": "5fe27c5c",
   "metadata": {},
   "outputs": [],
   "source": [
    "# function to create the mask of your shapefile\n",
    "# function to create the mask of your shapefile\n",
    "def makeMask(lon,lat,res):\n",
    "    source_ds = ogr.Open(shapefile)\n",
    "    source_layer = source_ds.GetLayer()\n",
    " \n",
    "    # Create high res raster in memory\n",
    "    mem_ds = gdal.GetDriverByName('MEM').Create('', lon.size, lat.size, gdal.GDT_Byte)\n",
    "    mem_ds.SetGeoTransform((lon.min(), res, 0, lat.max(), 0, -res))\n",
    "    band = mem_ds.GetRasterBand(1)\n",
    " \n",
    "    # Rasterize shapefile to grid\n",
    "    gdal.RasterizeLayer(mem_ds, [1], source_layer, burn_values=[1])\n",
    " \n",
    "    # Get rasterized shapefile as numpy array\n",
    "    array = band.ReadAsArray()\n",
    " \n",
    "    # Flush memory file\n",
    "    mem_ds = None\n",
    "    band = None\n",
    "    return array"
   ]
  },
  {
   "cell_type": "code",
   "execution_count": 69,
   "id": "a662b063",
   "metadata": {},
   "outputs": [
    {
     "data": {
      "image/png": "[encoded data removed]",
      "text/plain": [
       "<Figure size 432x288 with 1 Axes>"
      ]
     },
     "metadata": {
      "needs_background": "light"
     },
     "output_type": "display_data"
    },
    {
     "name": "stdout",
     "output_type": "stream",
     "text": [
      "100384.34 101386.63087248322 102256.6\n"
     ]
    }
   ],
   "source": [
    "# set the data directories\n",
    "datadir = \"F:/Osmanabad/Osmanabad Shapefile/\"\n",
    "shapefile = \"F:/Osmanabad/Osmanabad Shapefile/output.shp\"\n",
    "infile = \"MERRA2_400.inst1_2d_lfo_Nx.20150103.nc4\"\n",
    "ncs = datadir + infile\n",
    " \n",
    "# read the netcdf data file\n",
    "nc = netCDF4.Dataset(ncs,'r')\n",
    " \n",
    "# get the precipitation\n",
    "pr = nc.variables['PS'][0,:,:]\n",
    " \n",
    "# show the precipitation\n",
    "# plt.imshow(pr)\n",
    "# plt.show()\n",
    "# get the longitude information\n",
    "lons = nc.variables['lon'][:]\n",
    "# get the latitude information\n",
    "lats = nc.variables['lat'][:]\n",
    "# calculate the cellsize\n",
    "cellsize = lons[:][1] - lons[:][0]\n",
    " \n",
    "# create the mask\n",
    "mask = makeMask(lons,lats,cellsize)\n",
    " \n",
    "# # show the mask\n",
    "# plt.imshow(mask)\n",
    "# plt.show()\n",
    " \n",
    "# mask the precipitation data\n",
    "precip = np.ma.masked_where(mask==0,pr)\n",
    " \n",
    "plt.imshow(precip)\n",
    "plt.show()\n",
    " \n",
    "# print some stats\n",
    "print(np.min(precip), np.mean(precip), np.max(precip))"
   ]
  },
  {
   "cell_type": "code",
   "execution_count": 38,
   "id": "7c7aea65",
   "metadata": {},
   "outputs": [
    {
     "name": "stdout",
     "output_type": "stream",
     "text": [
      "Once deleted, variables cannot be recovered. Proceed (y/[n])? y\n"
     ]
    }
   ],
   "source": [
    "%reset"
   ]
  },
  {
   "cell_type": "code",
   "execution_count": null,
   "id": "193cd073",
   "metadata": {},
   "outputs": [],
   "source": []
  }
 ],
 "metadata": {
  "kernelspec": {
   "display_name": "Python 3 (ipykernel)",
   "language": "python",
   "name": "python3"
  },
  "language_info": {
   "codemirror_mode": {
    "name": "ipython",
    "version": 3
   },
   "file_extension": ".py",
   "mimetype": "text/x-python",
   "name": "python",
   "nbconvert_exporter": "python",
   "pygments_lexer": "ipython3",
   "version": "3.9.12"
  }
 },
 "nbformat": 4,
 "nbformat_minor": 5
}
